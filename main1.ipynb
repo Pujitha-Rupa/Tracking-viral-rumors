{
 "cells": [
  {
   "cell_type": "code",
   "execution_count": 3,
   "metadata": {},
   "outputs": [
    {
     "data": {
      "text/html": [
       "<div>\n",
       "<style scoped>\n",
       "    .dataframe tbody tr th:only-of-type {\n",
       "        vertical-align: middle;\n",
       "    }\n",
       "\n",
       "    .dataframe tbody tr th {\n",
       "        vertical-align: top;\n",
       "    }\n",
       "\n",
       "    .dataframe thead th {\n",
       "        text-align: right;\n",
       "    }\n",
       "</style>\n",
       "<table border=\"1\" class=\"dataframe\">\n",
       "  <thead>\n",
       "    <tr style=\"text-align: right;\">\n",
       "      <th></th>\n",
       "      <th>text</th>\n",
       "      <th>is_rumor</th>\n",
       "      <th>user.handle</th>\n",
       "      <th>topic</th>\n",
       "    </tr>\n",
       "  </thead>\n",
       "  <tbody>\n",
       "    <tr>\n",
       "      <th>0</th>\n",
       "      <td>Charlie Hebdo became well known for publishing...</td>\n",
       "      <td>0.0</td>\n",
       "      <td>BBCDanielS</td>\n",
       "      <td>charliehebdo</td>\n",
       "    </tr>\n",
       "    <tr>\n",
       "      <th>1</th>\n",
       "      <td>Now 10 dead in a shooting there today RT \"@BBC...</td>\n",
       "      <td>0.0</td>\n",
       "      <td>robbylevy</td>\n",
       "      <td>charliehebdo</td>\n",
       "    </tr>\n",
       "    <tr>\n",
       "      <th>2</th>\n",
       "      <td>@BBCDanielS @BBCWorld I'm guessing this is bei...</td>\n",
       "      <td>0.0</td>\n",
       "      <td>ModerateInAll</td>\n",
       "      <td>charliehebdo</td>\n",
       "    </tr>\n",
       "    <tr>\n",
       "      <th>3</th>\n",
       "      <td>@BBCDanielS @BBCWorld why would you mention th...</td>\n",
       "      <td>0.0</td>\n",
       "      <td>GabTarquini</td>\n",
       "      <td>charliehebdo</td>\n",
       "    </tr>\n",
       "    <tr>\n",
       "      <th>4</th>\n",
       "      <td>@BBCDanielS @BBCWorld perps identified?</td>\n",
       "      <td>0.0</td>\n",
       "      <td>freethought41</td>\n",
       "      <td>charliehebdo</td>\n",
       "    </tr>\n",
       "    <tr>\n",
       "      <th>...</th>\n",
       "      <td>...</td>\n",
       "      <td>...</td>\n",
       "      <td>...</td>\n",
       "      <td>...</td>\n",
       "    </tr>\n",
       "    <tr>\n",
       "      <th>62440</th>\n",
       "      <td>@AnonyOps @Xplant So that means its ok to torc...</td>\n",
       "      <td>1.0</td>\n",
       "      <td>RianAlden</td>\n",
       "      <td>ferguson</td>\n",
       "    </tr>\n",
       "    <tr>\n",
       "      <th>62441</th>\n",
       "      <td>@RianAlden not at all, but they need to change...</td>\n",
       "      <td>1.0</td>\n",
       "      <td>Xplant</td>\n",
       "      <td>ferguson</td>\n",
       "    </tr>\n",
       "    <tr>\n",
       "      <th>62442</th>\n",
       "      <td>@Xplant @AnonyOps Absoluteky.  But it pains me...</td>\n",
       "      <td>1.0</td>\n",
       "      <td>RianAlden</td>\n",
       "      <td>ferguson</td>\n",
       "    </tr>\n",
       "    <tr>\n",
       "      <th>62443</th>\n",
       "      <td>@Xplant @AnonyOps I'm curious how many of thes...</td>\n",
       "      <td>1.0</td>\n",
       "      <td>RianAlden</td>\n",
       "      <td>ferguson</td>\n",
       "    </tr>\n",
       "    <tr>\n",
       "      <th>62444</th>\n",
       "      <td>@Xplant @AnonyOps You get 15,000 people showin...</td>\n",
       "      <td>1.0</td>\n",
       "      <td>RianAlden</td>\n",
       "      <td>ferguson</td>\n",
       "    </tr>\n",
       "  </tbody>\n",
       "</table>\n",
       "<p>62445 rows × 4 columns</p>\n",
       "</div>"
      ],
      "text/plain": [
       "                                                    text  is_rumor  \\\n",
       "0      Charlie Hebdo became well known for publishing...       0.0   \n",
       "1      Now 10 dead in a shooting there today RT \"@BBC...       0.0   \n",
       "2      @BBCDanielS @BBCWorld I'm guessing this is bei...       0.0   \n",
       "3      @BBCDanielS @BBCWorld why would you mention th...       0.0   \n",
       "4                @BBCDanielS @BBCWorld perps identified?       0.0   \n",
       "...                                                  ...       ...   \n",
       "62440  @AnonyOps @Xplant So that means its ok to torc...       1.0   \n",
       "62441  @RianAlden not at all, but they need to change...       1.0   \n",
       "62442  @Xplant @AnonyOps Absoluteky.  But it pains me...       1.0   \n",
       "62443  @Xplant @AnonyOps I'm curious how many of thes...       1.0   \n",
       "62444  @Xplant @AnonyOps You get 15,000 people showin...       1.0   \n",
       "\n",
       "         user.handle         topic  \n",
       "0         BBCDanielS  charliehebdo  \n",
       "1          robbylevy  charliehebdo  \n",
       "2      ModerateInAll  charliehebdo  \n",
       "3        GabTarquini  charliehebdo  \n",
       "4      freethought41  charliehebdo  \n",
       "...              ...           ...  \n",
       "62440      RianAlden      ferguson  \n",
       "62441         Xplant      ferguson  \n",
       "62442      RianAlden      ferguson  \n",
       "62443      RianAlden      ferguson  \n",
       "62444      RianAlden      ferguson  \n",
       "\n",
       "[62445 rows x 4 columns]"
      ]
     },
     "execution_count": 3,
     "metadata": {},
     "output_type": "execute_result"
    }
   ],
   "source": [
    "import pandas as pd;\n",
    "df = pd.read_csv(\"dataset.csv\")\n",
    "df\n"
   ]
  },
  {
   "cell_type": "code",
   "execution_count": 5,
   "metadata": {},
   "outputs": [
    {
     "data": {
      "text/html": [
       "<div>\n",
       "<style scoped>\n",
       "    .dataframe tbody tr th:only-of-type {\n",
       "        vertical-align: middle;\n",
       "    }\n",
       "\n",
       "    .dataframe tbody tr th {\n",
       "        vertical-align: top;\n",
       "    }\n",
       "\n",
       "    .dataframe thead th {\n",
       "        text-align: right;\n",
       "    }\n",
       "</style>\n",
       "<table border=\"1\" class=\"dataframe\">\n",
       "  <thead>\n",
       "    <tr style=\"text-align: right;\">\n",
       "      <th></th>\n",
       "      <th>text</th>\n",
       "      <th>is_rumor</th>\n",
       "      <th>user.handle</th>\n",
       "      <th>topic</th>\n",
       "    </tr>\n",
       "  </thead>\n",
       "  <tbody>\n",
       "    <tr>\n",
       "      <th>0</th>\n",
       "      <td>Charlie Hebdo became well known for publishing...</td>\n",
       "      <td>0.0</td>\n",
       "      <td>BBCDanielS</td>\n",
       "      <td>charliehebdo</td>\n",
       "    </tr>\n",
       "    <tr>\n",
       "      <th>1</th>\n",
       "      <td>Now 10 dead in a shooting there today RT \"@BBC...</td>\n",
       "      <td>0.0</td>\n",
       "      <td>robbylevy</td>\n",
       "      <td>charliehebdo</td>\n",
       "    </tr>\n",
       "    <tr>\n",
       "      <th>2</th>\n",
       "      <td>@BBCDanielS @BBCWorld I'm guessing this is bei...</td>\n",
       "      <td>0.0</td>\n",
       "      <td>ModerateInAll</td>\n",
       "      <td>charliehebdo</td>\n",
       "    </tr>\n",
       "    <tr>\n",
       "      <th>3</th>\n",
       "      <td>@BBCDanielS @BBCWorld why would you mention th...</td>\n",
       "      <td>0.0</td>\n",
       "      <td>GabTarquini</td>\n",
       "      <td>charliehebdo</td>\n",
       "    </tr>\n",
       "    <tr>\n",
       "      <th>4</th>\n",
       "      <td>@BBCDanielS @BBCWorld perps identified?</td>\n",
       "      <td>0.0</td>\n",
       "      <td>freethought41</td>\n",
       "      <td>charliehebdo</td>\n",
       "    </tr>\n",
       "    <tr>\n",
       "      <th>...</th>\n",
       "      <td>...</td>\n",
       "      <td>...</td>\n",
       "      <td>...</td>\n",
       "      <td>...</td>\n",
       "    </tr>\n",
       "    <tr>\n",
       "      <th>62440</th>\n",
       "      <td>@AnonyOps @Xplant So that means its ok to torc...</td>\n",
       "      <td>1.0</td>\n",
       "      <td>RianAlden</td>\n",
       "      <td>ferguson</td>\n",
       "    </tr>\n",
       "    <tr>\n",
       "      <th>62441</th>\n",
       "      <td>@RianAlden not at all, but they need to change...</td>\n",
       "      <td>1.0</td>\n",
       "      <td>Xplant</td>\n",
       "      <td>ferguson</td>\n",
       "    </tr>\n",
       "    <tr>\n",
       "      <th>62442</th>\n",
       "      <td>@Xplant @AnonyOps Absoluteky.  But it pains me...</td>\n",
       "      <td>1.0</td>\n",
       "      <td>RianAlden</td>\n",
       "      <td>ferguson</td>\n",
       "    </tr>\n",
       "    <tr>\n",
       "      <th>62443</th>\n",
       "      <td>@Xplant @AnonyOps I'm curious how many of thes...</td>\n",
       "      <td>1.0</td>\n",
       "      <td>RianAlden</td>\n",
       "      <td>ferguson</td>\n",
       "    </tr>\n",
       "    <tr>\n",
       "      <th>62444</th>\n",
       "      <td>@Xplant @AnonyOps You get 15,000 people showin...</td>\n",
       "      <td>1.0</td>\n",
       "      <td>RianAlden</td>\n",
       "      <td>ferguson</td>\n",
       "    </tr>\n",
       "  </tbody>\n",
       "</table>\n",
       "<p>62445 rows × 4 columns</p>\n",
       "</div>"
      ],
      "text/plain": [
       "                                                    text  is_rumor  \\\n",
       "0      Charlie Hebdo became well known for publishing...       0.0   \n",
       "1      Now 10 dead in a shooting there today RT \"@BBC...       0.0   \n",
       "2      @BBCDanielS @BBCWorld I'm guessing this is bei...       0.0   \n",
       "3      @BBCDanielS @BBCWorld why would you mention th...       0.0   \n",
       "4                @BBCDanielS @BBCWorld perps identified?       0.0   \n",
       "...                                                  ...       ...   \n",
       "62440  @AnonyOps @Xplant So that means its ok to torc...       1.0   \n",
       "62441  @RianAlden not at all, but they need to change...       1.0   \n",
       "62442  @Xplant @AnonyOps Absoluteky.  But it pains me...       1.0   \n",
       "62443  @Xplant @AnonyOps I'm curious how many of thes...       1.0   \n",
       "62444  @Xplant @AnonyOps You get 15,000 people showin...       1.0   \n",
       "\n",
       "         user.handle         topic  \n",
       "0         BBCDanielS  charliehebdo  \n",
       "1          robbylevy  charliehebdo  \n",
       "2      ModerateInAll  charliehebdo  \n",
       "3        GabTarquini  charliehebdo  \n",
       "4      freethought41  charliehebdo  \n",
       "...              ...           ...  \n",
       "62440      RianAlden      ferguson  \n",
       "62441         Xplant      ferguson  \n",
       "62442      RianAlden      ferguson  \n",
       "62443      RianAlden      ferguson  \n",
       "62444      RianAlden      ferguson  \n",
       "\n",
       "[62445 rows x 4 columns]"
      ]
     },
     "execution_count": 5,
     "metadata": {},
     "output_type": "execute_result"
    }
   ],
   "source": [
    "df=pd.read_csv(r'C:\\Users\\RupaP\\Downloads\\dataset.csv')\n",
    "df"
   ]
  },
  {
   "cell_type": "code",
   "execution_count": 6,
   "metadata": {},
   "outputs": [
    {
     "data": {
      "text/plain": [
       "text               0\n",
       "is_rumor           2\n",
       "user.handle        2\n",
       "topic          12777\n",
       "dtype: int64"
      ]
     },
     "execution_count": 6,
     "metadata": {},
     "output_type": "execute_result"
    }
   ],
   "source": [
    "df.isnull().sum()"
   ]
  },
  {
   "cell_type": "code",
   "execution_count": 8,
   "metadata": {},
   "outputs": [
    {
     "name": "stderr",
     "output_type": "stream",
     "text": [
      "C:\\Users\\RupaP\\AppData\\Local\\Temp\\ipykernel_6712\\76764717.py:1: FutureWarning: DataFrame.interpolate with object dtype is deprecated and will raise in a future version. Call obj.infer_objects(copy=False) before interpolating instead.\n",
      "  df1=df.interpolate()\n"
     ]
    },
    {
     "data": {
      "text/plain": [
       "text               0\n",
       "is_rumor           0\n",
       "user.handle        2\n",
       "topic          12777\n",
       "dtype: int64"
      ]
     },
     "execution_count": 8,
     "metadata": {},
     "output_type": "execute_result"
    }
   ],
   "source": [
    "df1=df.interpolate()\n",
    "df1\n",
    "\n",
    "df1.isnull().sum()"
   ]
  },
  {
   "cell_type": "code",
   "execution_count": 14,
   "metadata": {},
   "outputs": [],
   "source": [
    "df2=df1.fillna({\n",
    "    'topic':\"charliehebdo\"\n",
    "})\n"
   ]
  },
  {
   "cell_type": "code",
   "execution_count": 17,
   "metadata": {},
   "outputs": [
    {
     "data": {
      "text/plain": [
       "text           0\n",
       "is_rumor       0\n",
       "user.handle    0\n",
       "topic          0\n",
       "dtype: int64"
      ]
     },
     "execution_count": 17,
     "metadata": {},
     "output_type": "execute_result"
    }
   ],
   "source": [
    "df3=df2.fillna({\n",
    "    'user.handle':'RianAlden'\n",
    "})\n",
    "df3.isnull().any()\n",
    "df3.isnull().sum()\n",
    "    "
   ]
  },
  {
   "cell_type": "code",
   "execution_count": 19,
   "metadata": {},
   "outputs": [
    {
     "data": {
      "text/plain": [
       "0        False\n",
       "1        False\n",
       "2        False\n",
       "3        False\n",
       "4        False\n",
       "         ...  \n",
       "62440    False\n",
       "62441    False\n",
       "62442    False\n",
       "62443    False\n",
       "62444    False\n",
       "Length: 62445, dtype: bool"
      ]
     },
     "execution_count": 19,
     "metadata": {},
     "output_type": "execute_result"
    }
   ],
   "source": [
    "data = df3.duplicated()\n",
    "data\n",
    "\n"
   ]
  },
  {
   "cell_type": "code",
   "execution_count": null,
   "metadata": {},
   "outputs": [],
   "source": []
  }
 ],
 "metadata": {
  "kernelspec": {
   "display_name": "desktop",
   "language": "python",
   "name": "python3"
  },
  "language_info": {
   "codemirror_mode": {
    "name": "ipython",
    "version": 3
   },
   "file_extension": ".py",
   "mimetype": "text/x-python",
   "name": "python",
   "nbconvert_exporter": "python",
   "pygments_lexer": "ipython3",
   "version": "3.11.4"
  }
 },
 "nbformat": 4,
 "nbformat_minor": 2
}
